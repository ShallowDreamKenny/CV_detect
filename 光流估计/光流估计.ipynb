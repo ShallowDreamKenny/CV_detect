{
 "cells": [
  {
   "cell_type": "markdown",
   "source": [
    "# 光流估计"
   ],
   "metadata": {
    "collapsed": false
   }
  },
  {
   "cell_type": "markdown",
   "source": [
    "### 光流是空间运动物体在观测成像平面上的像素运动的“瞬时速度”，根据各个像素点的速度矢量特征，可以对图像进行动态分析，例如目标跟踪\n",
    "    1. 亮度恒定： 同一点随着时间的变化，其亮度不会发生改变（帧和帧之间差距较小，因此一般不会发生变化）\n",
    "    2. 小运动： 随着时间的变化不会引起位置的剧烈变化，只有小运动情况下才能用前后帧之间单位位置变化引起的灰度变化去近似灰度对位置的偏导数\n",
    "    3. 空间一致： 一个场景上临近的点投影到图像上也是临近点，且临近点速度一直。\n",
    "### 因为光流法基本方程约束只有一个，而如果要求X,Y方向的速度，有两个未知量，因此需要联立n多个方程求解"
   ],
   "metadata": {
    "collapsed": false
   }
  },
  {
   "cell_type": "markdown",
   "source": [
    "## Lucas-Kanade 算法\n",
    "![](pic/1.png)\n",
    "![](pic/2.png)\n",
    "![](pic/3.png)\n",
    "#### 注：一般情况下角点矩阵一般可逆，即λ1λ2都较大的情况下，是可逆的\n",
    "### 所以光流检测中一般围绕着角点进行检测 先进性角点检测，把角点传入光流估计算法"
   ],
   "metadata": {
    "collapsed": false
   }
  },
  {
   "cell_type": "code",
   "execution_count": 17,
   "outputs": [],
   "source": [
    "import numpy as np\n",
    "import cv2\n",
    "cap = cv2.VideoCapture(\"./video/test.avi\")\n",
    "_,frame = cap.read()\n",
    "gray = cv2.cvtColor(frame,cv2.COLOR_BGR2GRAY)\n",
    "# 初始化角点检测参数\n",
    "feature_param = dict(\n",
    "    maxCorners = 100,\n",
    "    qualityLevel = 0.3,\n",
    "    minDistance = 7\n",
    ")\n",
    "#Lucas_Kanade参数\n",
    "lk_param = dict(\n",
    "    winSize = (15,15),\n",
    "    maxLevel = 2\n",
    ")\n",
    "\n",
    "color = np.random.randint(0,255,(100,3))\n",
    "\n",
    "# 返回所有检测特征点，需要输入图像\n",
    "p0 = cv2.goodFeaturesToTrack(gray,mask=None,**feature_param)"
   ],
   "metadata": {
    "collapsed": false
   }
  },
  {
   "cell_type": "code",
   "execution_count": 18,
   "outputs": [
    {
     "data": {
      "text/plain": "32"
     },
     "execution_count": 18,
     "metadata": {},
     "output_type": "execute_result"
    }
   ],
   "source": [
    "p0 # 图像中的角点\n",
    "for i in p0:\n",
    "    frame[int(i[0][1]),int(i[0][0]),0] = 0\n",
    "    frame[int(i[0][1]),int(i[0][0]),1] = 0\n",
    "    frame[int(i[0][1]),int(i[0][0]),2] = 255\n",
    "cv2.imshow(\"frame\",frame)\n",
    "cv2.waitKey(0)"
   ],
   "metadata": {
    "collapsed": false
   }
  },
  {
   "cell_type": "code",
   "execution_count": 19,
   "outputs": [],
   "source": [
    "cv2.destroyAllWindows()"
   ],
   "metadata": {
    "collapsed": false
   }
  },
  {
   "cell_type": "code",
   "execution_count": 20,
   "outputs": [],
   "source": [
    "mask = np.zeros_like(frame)\n",
    "while _:\n",
    "    _,frame = cap.read()\n",
    "    gray_now = cv2.cvtColor(frame,cv2.COLOR_BGR2GRAY)\n",
    "\n",
    "    # 光流检测\n",
    "    p1, st ,err = cv2.calcOpticalFlowPyrLK(gray,gray_now,p0,None,**lk_param)\n",
    "\n",
    "    good_mew = p1[st==1]\n",
    "    good_old = p0[st==1]\n",
    "\n",
    "    for i,(new,old) in enumerate(zip(good_mew,good_old)):\n",
    "        a,b = new.ravel()\n",
    "        c,d = old.ravel()\n",
    "        mask = cv2.line(mask,(a,b),(c,d),color[i].tolist(),2)\n",
    "        frame = cv2.circle(frame,(a,b),5,color[i].tolist(),-1)\n",
    "    img = cv2.add(frame,mask)\n",
    "\n",
    "    cv2.imshow(\"frame\",img)\n",
    "    k = cv2.waitKey(100) & 0xff\n",
    "    if k ==27:\n",
    "        break\n",
    "    gray = gray_now.copy()\n",
    "    p0 = good_mew.reshape(-1,1,2)\n",
    "cv2.destroyAllWindows()\n",
    "cap.release()"
   ],
   "metadata": {
    "collapsed": false
   }
  }
 ],
 "metadata": {
  "kernelspec": {
   "display_name": "Python 3",
   "language": "python",
   "name": "python3"
  },
  "language_info": {
   "codemirror_mode": {
    "name": "ipython",
    "version": 2
   },
   "file_extension": ".py",
   "mimetype": "text/x-python",
   "name": "python",
   "nbconvert_exporter": "python",
   "pygments_lexer": "ipython2",
   "version": "2.7.6"
  }
 },
 "nbformat": 4,
 "nbformat_minor": 0
}
