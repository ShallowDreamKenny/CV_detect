{
 "cells": [
  {
   "cell_type": "markdown",
   "source": [
    "# 背景建模"
   ],
   "metadata": {
    "collapsed": false
   }
  },
  {
   "cell_type": "markdown",
   "source": [
    "## 帧插法\n",
    "### 用两帧图像进行差分运算，不同帧对应的像素点相减，判断灰度差的绝对值，当绝对值超过一定阈值是，即可判断为运动目标\n",
    "#### 问题： 会引入噪音和空洞问题"
   ],
   "metadata": {
    "collapsed": false
   }
  },
  {
   "cell_type": "markdown",
   "source": [
    "## 混合高斯模型\n",
    "##### 类似算法：EM和GMM算法\n",
    "### 通过学习得到多种背景的高斯分布，并将其融合\n",
    "### 背景由多个高斯分布融合，每个高斯分布（正态分布）的权重不同\n",
    "![](pic/1.png)\n",
    "#### 视频的背景每个像素点应当是符合高斯分布的\n"
   ],
   "metadata": {
    "collapsed": false
   }
  },
  {
   "cell_type": "markdown",
   "source": [
    "### 混合高斯模型学习方法\n",
    "   1. 首先初始化每个高斯模型矩阵参数\n",
    "   2. 取视频中T帧数据图像来训练高斯混合模型，来了第一个像素之后用他来当第一个高斯分布\n",
    "   3. 后面的像素值与前面已有的高斯的均值比较，如果该像素点的值与其模型均值差在3倍方差内，则属于该分部，并对其进行参数更新\n",
    "   4. 如果下一次来的像素不满足当前的高斯分布，用它来创建新的高斯分布\n",
    "   （视频中采用3-5个高斯分布基本足够）"
   ],
   "metadata": {
    "collapsed": false
   }
  },
  {
   "cell_type": "markdown",
   "source": [
    "### 混合高斯模型测试方法\n",
    "#### 在测试阶段，对新来像素点的值与混合高斯模型中的每一个均值进行比较，如果其差值在两倍方差之间的话，则认为是背景，否则认为是前景。将前景赋值为255，背景赋值为0.这样就形成一幅前景二值图"
   ],
   "metadata": {
    "collapsed": false
   }
  },
  {
   "cell_type": "code",
   "execution_count": 11,
   "outputs": [],
   "source": [
    "import numpy as np\n",
    "import cv2\n",
    "\n",
    "cap = cv2.VideoCapture(\"./video/test.avi\")\n",
    "kernel = cv2.getStructuringElement(cv2.MORPH_ELLIPSE,(3,3))\n",
    "fgbg = cv2.createBackgroundSubtractorMOG2()\n",
    "_,frame = cap.read()\n",
    "\n",
    "while _:\n",
    "    _,frame = cap.read()\n",
    "    fgmask = fgbg.apply(frame)\n",
    "\n",
    "    # 开运算去噪点\n",
    "    fgmask = cv2.morphologyEx(fgmask,cv2.MORPH_OPEN,kernel)\n",
    "\n",
    "    contours = cv2.findContours(fgmask,cv2.RETR_EXTERNAL,cv2.CHAIN_APPROX_SIMPLE)[1]\n",
    "\n",
    "    for c in contours:\n",
    "        perimeter = cv2.arcLength(c,True) # 闭合矩形\n",
    "        if perimeter > 150:\n",
    "            # 筛选掉不必要的轮库\n",
    "            x,y,w,h = cv2.boundingRect(c)\n",
    "            cv2.rectangle(frame,(x,y),(x+w,y+h),(0,255,0),2)\n",
    "\n",
    "    cv2.imshow(\"frame\",frame)\n",
    "    cv2.imshow(\"mask\",fgmask)\n",
    "    k = cv2.waitKey(100) & 0xff\n",
    "    if k == 27:\n",
    "        break\n",
    "\n",
    "cap.release()\n",
    "cv2.destroyAllWindows()"
   ],
   "metadata": {
    "collapsed": false
   }
  }
 ],
 "metadata": {
  "kernelspec": {
   "display_name": "Python 3",
   "language": "python",
   "name": "python3"
  },
  "language_info": {
   "codemirror_mode": {
    "name": "ipython",
    "version": 2
   },
   "file_extension": ".py",
   "mimetype": "text/x-python",
   "name": "python",
   "nbconvert_exporter": "python",
   "pygments_lexer": "ipython2",
   "version": "2.7.6"
  }
 },
 "nbformat": 4,
 "nbformat_minor": 0
}
